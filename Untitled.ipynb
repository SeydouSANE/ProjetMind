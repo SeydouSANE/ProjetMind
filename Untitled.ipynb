{
 "cells": [
  {
   "cell_type": "code",
   "execution_count": 66,
   "metadata": {},
   "outputs": [],
   "source": [
    "#matrice de regression\n",
    "import numpy as np\n",
    "global n\n",
    "def prep_mat(X,h):\n",
    "    \"\"\"\n",
    "    Arguments:\n",
    "    X array\n",
    "    h horizon positive integer\n",
    "    Returns\n",
    "    Mat_X une matrice nxp\n",
    "    \"\"\"\n",
    "    n=len(X)-h #p ici coincide avec h\n",
    "    T=np.zeros((n,h))\n",
    "    for i in range(n):\n",
    "        l=X[len(X)-1-h-i:len(X)-i-1]\n",
    "        T[i:]=l[::-1]\n",
    "        Mat_X=T[:,0:h]\n",
    "\n",
    "    return Mat_X\n"
   ]
  },
  {
   "cell_type": "code",
   "execution_count": 67,
   "metadata": {},
   "outputs": [],
   "source": [
    "#matrice de la métrique\n",
    "import math \n",
    "def metr_retard(α,β,h):\n",
    "    M=np.eye(h) #métrique pour la norme de b\n",
    "    for j in range(h) :\n",
    "          M[j,j]  = math.exp(α+ j*β)\n",
    "    return M\n",
    "\n",
    "def metr(n):\n",
    "    W=np.eye(n) #métrique pour calculer les produits scalaires entre séries\n",
    "    for j in range(n) :\n",
    "          W[j,j]  = 1/n\n",
    "    return W"
   ]
  },
  {
   "cell_type": "code",
   "execution_count": 88,
   "metadata": {},
   "outputs": [],
   "source": [
    "# regression ridge\n",
    "def ridge(X,Y,λ,h,α,β):\n",
    "    \n",
    "    global n\n",
    "    \"\"\"\"\n",
    "    Arguments : \n",
    "    (X,Y) :une serie temporelle\n",
    "    λ     :facteurs de pénalisation \n",
    "    h     : horizon \n",
    "    (α,β) :des reels positives pour construir la matrice metrique \n",
    "    returns\n",
    "    b de dimension h\n",
    "    \"\"\"\n",
    "    \n",
    "    \n",
    "    n=len(X)-h\n",
    "    M=metr_retard(α,β,h)#métrique\n",
    "    x=prep_mat(X,h)#la matrice X(t-1,t-h)\n",
    "    W=metr(n)\n",
    "     # reglage de la dimension de Y\n",
    "    T=Y[h:len(X)]\n",
    "    y=T[::-1]#les h derniers coeficients de y\n",
    "    #calcul de l'estimateur de ridge (X'WX+λM)^(-1)X'Wy\n",
    "    J1=np.transpose(x).dot(W) \n",
    "    J2=J1.dot(x)\n",
    "    B=np.linalg.inv(J2+λ*M)\n",
    "    b1=B.dot(np.transpose(x))\n",
    "    b2=b1.dot(W)\n",
    "    b=b2.dot(y)\n",
    "    return b"
   ]
  },
  {
   "cell_type": "code",
   "execution_count": 69,
   "metadata": {},
   "outputs": [
    {
     "data": {
      "text/html": [
       "<div>\n",
       "<style scoped>\n",
       "    .dataframe tbody tr th:only-of-type {\n",
       "        vertical-align: middle;\n",
       "    }\n",
       "\n",
       "    .dataframe tbody tr th {\n",
       "        vertical-align: top;\n",
       "    }\n",
       "\n",
       "    .dataframe thead th {\n",
       "        text-align: right;\n",
       "    }\n",
       "</style>\n",
       "<table border=\"1\" class=\"dataframe\">\n",
       "  <thead>\n",
       "    <tr style=\"text-align: right;\">\n",
       "      <th></th>\n",
       "      <th>T</th>\n",
       "      <th>X</th>\n",
       "    </tr>\n",
       "  </thead>\n",
       "  <tbody>\n",
       "    <tr>\n",
       "      <td>0</td>\n",
       "      <td>0</td>\n",
       "      <td>2.014602</td>\n",
       "    </tr>\n",
       "    <tr>\n",
       "      <td>1</td>\n",
       "      <td>1</td>\n",
       "      <td>2.044057</td>\n",
       "    </tr>\n",
       "    <tr>\n",
       "      <td>2</td>\n",
       "      <td>2</td>\n",
       "      <td>2.017678</td>\n",
       "    </tr>\n",
       "    <tr>\n",
       "      <td>3</td>\n",
       "      <td>3</td>\n",
       "      <td>1.886158</td>\n",
       "    </tr>\n",
       "    <tr>\n",
       "      <td>4</td>\n",
       "      <td>4</td>\n",
       "      <td>1.815373</td>\n",
       "    </tr>\n",
       "    <tr>\n",
       "      <td>...</td>\n",
       "      <td>...</td>\n",
       "      <td>...</td>\n",
       "    </tr>\n",
       "    <tr>\n",
       "      <td>95</td>\n",
       "      <td>95</td>\n",
       "      <td>1.800795</td>\n",
       "    </tr>\n",
       "    <tr>\n",
       "      <td>96</td>\n",
       "      <td>96</td>\n",
       "      <td>1.961917</td>\n",
       "    </tr>\n",
       "    <tr>\n",
       "      <td>97</td>\n",
       "      <td>97</td>\n",
       "      <td>1.959516</td>\n",
       "    </tr>\n",
       "    <tr>\n",
       "      <td>98</td>\n",
       "      <td>98</td>\n",
       "      <td>1.794639</td>\n",
       "    </tr>\n",
       "    <tr>\n",
       "      <td>99</td>\n",
       "      <td>99</td>\n",
       "      <td>1.805775</td>\n",
       "    </tr>\n",
       "  </tbody>\n",
       "</table>\n",
       "<p>100 rows × 2 columns</p>\n",
       "</div>"
      ],
      "text/plain": [
       "     T         X\n",
       "0    0  2.014602\n",
       "1    1  2.044057\n",
       "2    2  2.017678\n",
       "3    3  1.886158\n",
       "4    4  1.815373\n",
       "..  ..       ...\n",
       "95  95  1.800795\n",
       "96  96  1.961917\n",
       "97  97  1.959516\n",
       "98  98  1.794639\n",
       "99  99  1.805775\n",
       "\n",
       "[100 rows x 2 columns]"
      ]
     },
     "execution_count": 69,
     "metadata": {},
     "output_type": "execute_result"
    }
   ],
   "source": [
    "import pandas as pd\n",
    "from pandas import DataFrame\n",
    "%pwd\n",
    "serieX=pd.read_csv('C:/Users/33605/Documents/serie X.csv',sep='\t') \n",
    "serieX"
   ]
  },
  {
   "cell_type": "code",
   "execution_count": 70,
   "metadata": {},
   "outputs": [
    {
     "data": {
      "text/plain": [
       "array([[1.79463948, 1.95951611, 1.96191706, ..., 2.181261  , 2.06335304,\n",
       "        2.18038708],\n",
       "       [1.95951611, 1.96191706, 1.80079482, ..., 2.06335304, 2.18038708,\n",
       "        2.05960296],\n",
       "       [1.96191706, 1.80079482, 1.70173392, ..., 2.18038708, 2.05960296,\n",
       "        2.137301  ],\n",
       "       ...,\n",
       "       [1.91530432, 1.92121181, 1.91788796, ..., 1.81537314, 1.88615818,\n",
       "        2.01767825],\n",
       "       [1.92121181, 1.91788796, 1.94988178, ..., 1.88615818, 2.01767825,\n",
       "        2.04405723],\n",
       "       [1.91788796, 1.94988178, 2.0218823 , ..., 2.01767825, 2.04405723,\n",
       "        2.0146017 ]])"
      ]
     },
     "execution_count": 70,
     "metadata": {},
     "output_type": "execute_result"
    }
   ],
   "source": [
    "X=serieX['X']\n",
    "prep_mat(X,60)"
   ]
  },
  {
   "cell_type": "markdown",
   "metadata": {},
   "source": [
    "M=I (alpha=0, gamma=0) lambda=1"
   ]
  },
  {
   "cell_type": "code",
   "execution_count": 71,
   "metadata": {},
   "outputs": [
    {
     "data": {
      "text/plain": [
       "array([0.123212  , 0.11525192, 0.11137473, 0.10897241, 0.10561615,\n",
       "       0.10254896, 0.10014289, 0.1010173 , 0.10311321])"
      ]
     },
     "execution_count": 71,
     "metadata": {},
     "output_type": "execute_result"
    }
   ],
   "source": [
    "Y=X\n",
    "b0=ridge(X,Y,1,9,0,0)\n",
    "b0"
   ]
  },
  {
   "cell_type": "markdown",
   "metadata": {},
   "source": [
    "M1 (alpha=0, gamma=0,1) lambda=1"
   ]
  },
  {
   "cell_type": "code",
   "execution_count": 63,
   "metadata": {},
   "outputs": [
    {
     "data": {
      "text/plain": [
       "array([0.16573569, 0.14294696, 0.12674383, 0.11344143, 0.10077351,\n",
       "       0.08966863, 0.08016267, 0.0732678 , 0.06729317])"
      ]
     },
     "execution_count": 63,
     "metadata": {},
     "output_type": "execute_result"
    }
   ],
   "source": [
    "Y=X\n",
    "b1=ridge(X,Y,1,9,0,0.1)\n",
    "b1"
   ]
  },
  {
   "cell_type": "markdown",
   "metadata": {},
   "source": [
    "M2 (alpha=0, gamma=0.2) lambda=1"
   ]
  },
  {
   "cell_type": "code",
   "execution_count": 64,
   "metadata": {
    "scrolled": true
   },
   "outputs": [
    {
     "data": {
      "text/plain": [
       "array([0.21457952, 0.16957953, 0.13723367, 0.1118394 , 0.09054163,\n",
       "       0.07339985, 0.05972445, 0.0493802 , 0.04088297])"
      ]
     },
     "execution_count": 64,
     "metadata": {},
     "output_type": "execute_result"
    }
   ],
   "source": [
    "Y=X\n",
    "b2=ridge(X,Y,1,9,0,0.2)\n",
    "b2"
   ]
  },
  {
   "cell_type": "markdown",
   "metadata": {},
   "source": [
    "lambda = 0 "
   ]
  },
  {
   "cell_type": "markdown",
   "metadata": {},
   "source": [
    "(alpha=0, gamma=0)"
   ]
  },
  {
   "cell_type": "code",
   "execution_count": 74,
   "metadata": {},
   "outputs": [
    {
     "data": {
      "text/plain": [
       "array([ 0.86776685, -0.15229183,  0.19109782,  0.13648133, -0.11231696,\n",
       "        0.04673532, -0.17288446,  0.09663907,  0.09902045])"
      ]
     },
     "execution_count": 74,
     "metadata": {},
     "output_type": "execute_result"
    }
   ],
   "source": [
    "Y=X\n",
    "b3=ridge(X,Y,0,9,0,0)\n",
    "b3"
   ]
  },
  {
   "cell_type": "markdown",
   "metadata": {},
   "source": [
    "lambda=0.1\n",
    "(alpha, gamma)=(0,0)"
   ]
  },
  {
   "cell_type": "code",
   "execution_count": 73,
   "metadata": {},
   "outputs": [
    {
     "data": {
      "text/plain": [
       "array([0.22792525, 0.15597798, 0.12989583, 0.1162986 , 0.09143602,\n",
       "       0.06996207, 0.05401165, 0.06599369, 0.08509659])"
      ]
     },
     "execution_count": 73,
     "metadata": {},
     "output_type": "execute_result"
    }
   ],
   "source": [
    "Y=X\n",
    "b4=ridge(X,Y,0.1,9,0,0)\n",
    "b4"
   ]
  },
  {
   "cell_type": "markdown",
   "metadata": {},
   "source": [
    "lambda=0.2 (alpha, gamma)=(0.1,0.1)"
   ]
  },
  {
   "cell_type": "code",
   "execution_count": 75,
   "metadata": {},
   "outputs": [
    {
     "data": {
      "text/plain": [
       "array([0.24835517, 0.16648432, 0.13370406, 0.1140066 , 0.08911796,\n",
       "       0.06942718, 0.05590583, 0.0576303 , 0.0606585 ])"
      ]
     },
     "execution_count": 75,
     "metadata": {},
     "output_type": "execute_result"
    }
   ],
   "source": [
    "Y=X\n",
    "b5=ridge(X,Y,0.1,9,0.1,0.1)\n",
    "b5"
   ]
  },
  {
   "cell_type": "markdown",
   "metadata": {},
   "source": [
    "lambda=0.2 (alpha, gamma)=(0.2,0.2)"
   ]
  },
  {
   "cell_type": "code",
   "execution_count": 76,
   "metadata": {},
   "outputs": [
    {
     "data": {
      "text/plain": [
       "array([0.24868885, 0.1794041 , 0.14105171, 0.11375149, 0.08916701,\n",
       "       0.07008374, 0.05591286, 0.04769908, 0.04091278])"
      ]
     },
     "execution_count": 76,
     "metadata": {},
     "output_type": "execute_result"
    }
   ],
   "source": [
    "Y=X\n",
    "b6=ridge(X,Y,0.2,9,0.2,0.2)\n",
    "b6"
   ]
  },
  {
   "cell_type": "code",
   "execution_count": 78,
   "metadata": {},
   "outputs": [
    {
     "data": {
      "text/html": [
       "<div>\n",
       "<style scoped>\n",
       "    .dataframe tbody tr th:only-of-type {\n",
       "        vertical-align: middle;\n",
       "    }\n",
       "\n",
       "    .dataframe tbody tr th {\n",
       "        vertical-align: top;\n",
       "    }\n",
       "\n",
       "    .dataframe thead th {\n",
       "        text-align: right;\n",
       "    }\n",
       "</style>\n",
       "<table border=\"1\" class=\"dataframe\">\n",
       "  <thead>\n",
       "    <tr style=\"text-align: right;\">\n",
       "      <th></th>\n",
       "      <th>T</th>\n",
       "      <th>X</th>\n",
       "      <th>Y</th>\n",
       "    </tr>\n",
       "  </thead>\n",
       "  <tbody>\n",
       "    <tr>\n",
       "      <td>0</td>\n",
       "      <td>0</td>\n",
       "      <td>2.0523</td>\n",
       "      <td>0.9803</td>\n",
       "    </tr>\n",
       "    <tr>\n",
       "      <td>1</td>\n",
       "      <td>1</td>\n",
       "      <td>1.9783</td>\n",
       "      <td>1.4986</td>\n",
       "    </tr>\n",
       "    <tr>\n",
       "      <td>2</td>\n",
       "      <td>2</td>\n",
       "      <td>2.0042</td>\n",
       "      <td>2.4878</td>\n",
       "    </tr>\n",
       "    <tr>\n",
       "      <td>3</td>\n",
       "      <td>3</td>\n",
       "      <td>2.1818</td>\n",
       "      <td>3.0130</td>\n",
       "    </tr>\n",
       "    <tr>\n",
       "      <td>4</td>\n",
       "      <td>4</td>\n",
       "      <td>2.2812</td>\n",
       "      <td>3.1823</td>\n",
       "    </tr>\n",
       "    <tr>\n",
       "      <td>...</td>\n",
       "      <td>...</td>\n",
       "      <td>...</td>\n",
       "      <td>...</td>\n",
       "    </tr>\n",
       "    <tr>\n",
       "      <td>95</td>\n",
       "      <td>95</td>\n",
       "      <td>1.9911</td>\n",
       "      <td>5.3231</td>\n",
       "    </tr>\n",
       "    <tr>\n",
       "      <td>96</td>\n",
       "      <td>96</td>\n",
       "      <td>2.1453</td>\n",
       "      <td>5.2377</td>\n",
       "    </tr>\n",
       "    <tr>\n",
       "      <td>97</td>\n",
       "      <td>97</td>\n",
       "      <td>2.0991</td>\n",
       "      <td>5.3364</td>\n",
       "    </tr>\n",
       "    <tr>\n",
       "      <td>98</td>\n",
       "      <td>98</td>\n",
       "      <td>2.1732</td>\n",
       "      <td>5.3458</td>\n",
       "    </tr>\n",
       "    <tr>\n",
       "      <td>99</td>\n",
       "      <td>99</td>\n",
       "      <td>2.0069</td>\n",
       "      <td>5.2201</td>\n",
       "    </tr>\n",
       "  </tbody>\n",
       "</table>\n",
       "<p>100 rows × 3 columns</p>\n",
       "</div>"
      ],
      "text/plain": [
       "     T       X       Y\n",
       "0    0  2.0523  0.9803\n",
       "1    1  1.9783  1.4986\n",
       "2    2  2.0042  2.4878\n",
       "3    3  2.1818  3.0130\n",
       "4    4  2.2812  3.1823\n",
       "..  ..     ...     ...\n",
       "95  95  1.9911  5.3231\n",
       "96  96  2.1453  5.2377\n",
       "97  97  2.0991  5.3364\n",
       "98  98  2.1732  5.3458\n",
       "99  99  2.0069  5.2201\n",
       "\n",
       "[100 rows x 3 columns]"
      ]
     },
     "execution_count": 78,
     "metadata": {},
     "output_type": "execute_result"
    }
   ],
   "source": [
    "import pandas as pd\n",
    "from pandas import DataFrame\n",
    "%pwd\n",
    "serieXY=pd.read_csv('C:/Users/33605/Documents/seriesXY.csv',sep='\t') \n",
    "serieXY"
   ]
  },
  {
   "cell_type": "code",
   "execution_count": 79,
   "metadata": {},
   "outputs": [
    {
     "data": {
      "text/plain": [
       "array([[2.1732, 2.0991, 2.1453, ..., 1.9982, 2.0286, 2.188 ],\n",
       "       [2.0991, 2.1453, 1.9911, ..., 2.0286, 2.188 , 2.2709],\n",
       "       [2.1453, 1.9911, 2.0163, ..., 2.188 , 2.2709, 2.2753],\n",
       "       ...,\n",
       "       [1.9175, 2.0169, 2.1281, ..., 2.2812, 2.1818, 2.0042],\n",
       "       [2.0169, 2.1281, 2.117 , ..., 2.1818, 2.0042, 1.9783],\n",
       "       [2.1281, 2.117 , 1.9331, ..., 2.0042, 1.9783, 2.0523]])"
      ]
     },
     "execution_count": 79,
     "metadata": {},
     "output_type": "execute_result"
    }
   ],
   "source": [
    "X=serieXY['X']\n",
    "prep_mat(X,20)"
   ]
  },
  {
   "cell_type": "code",
   "execution_count": 80,
   "metadata": {},
   "outputs": [
    {
     "data": {
      "text/plain": [
       "array([1.10707943e+00, 4.08016366e-01, 1.50650169e-01, 5.55701567e-02,\n",
       "       2.05360893e-02, 7.57107747e-03, 2.78651117e-03, 1.02614654e-03,\n",
       "       3.77926015e-04, 1.38822182e-04, 5.09297717e-05, 1.86755145e-05,\n",
       "       6.86128702e-06, 2.52497934e-06, 9.29770749e-07, 3.42396775e-07,\n",
       "       1.26037671e-07, 4.63208042e-08, 1.70459721e-08, 6.27915553e-09])"
      ]
     },
     "execution_count": 80,
     "metadata": {},
     "output_type": "execute_result"
    }
   ],
   "source": [
    "Y=serieXY['Y']\n",
    "b=ridge(X,Y,1,20,1,1)\n",
    "b"
   ]
  },
  {
   "cell_type": "code",
   "execution_count": 81,
   "metadata": {},
   "outputs": [
    {
     "data": {
      "text/plain": [
       "array([0.26942901, 0.26412755, 0.26348085, 0.26326081, 0.26747291,\n",
       "       0.2681199 , 0.2712509 , 0.27672497, 0.28239314])"
      ]
     },
     "execution_count": 81,
     "metadata": {},
     "output_type": "execute_result"
    }
   ],
   "source": [
    "b0=ridge(X,Y,1,9,0,0)\n",
    "b0"
   ]
  },
  {
   "cell_type": "code",
   "execution_count": 82,
   "metadata": {},
   "outputs": [
    {
     "data": {
      "text/plain": [
       "array([0.38008591, 0.33981165, 0.30838294, 0.2804138 , 0.25802481,\n",
       "       0.23512348, 0.2154175 , 0.19828892, 0.1821828 ])"
      ]
     },
     "execution_count": 82,
     "metadata": {},
     "output_type": "execute_result"
    }
   ],
   "source": [
    "b1=ridge(X,Y,1,9,0,0.1)\n",
    "b1"
   ]
  },
  {
   "cell_type": "code",
   "execution_count": 83,
   "metadata": {},
   "outputs": [
    {
     "data": {
      "text/plain": [
       "array([0.50677882, 0.41199784, 0.33937582, 0.280042  , 0.23308952,\n",
       "       0.19251744, 0.15947596, 0.13244673, 0.10972726])"
      ]
     },
     "execution_count": 83,
     "metadata": {},
     "output_type": "execute_result"
    }
   ],
   "source": [
    "b2=ridge(X,Y,1,9,0,0.2)\n",
    "b2"
   ]
  },
  {
   "cell_type": "code",
   "execution_count": 84,
   "metadata": {},
   "outputs": [
    {
     "data": {
      "text/plain": [
       "array([ 0.71291514, -0.24103597,  0.48546971, -0.25602974,  0.44410763,\n",
       "        0.05245021,  0.18404269,  0.31089841,  0.80027073])"
      ]
     },
     "execution_count": 84,
     "metadata": {},
     "output_type": "execute_result"
    }
   ],
   "source": [
    "b3=ridge(X,Y,0,9,0,0)\n",
    "b3"
   ]
  },
  {
   "cell_type": "code",
   "execution_count": 85,
   "metadata": {},
   "outputs": [
    {
     "data": {
      "text/plain": [
       "array([0.29007505, 0.24031315, 0.23510886, 0.22776953, 0.2579278 ,\n",
       "       0.25505569, 0.27863124, 0.3246576 , 0.37566111])"
      ]
     },
     "execution_count": 85,
     "metadata": {},
     "output_type": "execute_result"
    }
   ],
   "source": [
    "b4=ridge(X,Y,0.1,9,0,0)\n",
    "b4"
   ]
  },
  {
   "cell_type": "code",
   "execution_count": 86,
   "metadata": {},
   "outputs": [
    {
     "data": {
      "text/plain": [
       "array([0.37586549, 0.30371299, 0.28087208, 0.26020104, 0.26440181,\n",
       "       0.24737941, 0.24527316, 0.25119771, 0.25163702])"
      ]
     },
     "execution_count": 86,
     "metadata": {},
     "output_type": "execute_result"
    }
   ],
   "source": [
    "b5=ridge(X,Y,0.1,9,0.1,0.1)\n",
    "b5"
   ]
  },
  {
   "cell_type": "code",
   "execution_count": 87,
   "metadata": {},
   "outputs": [
    {
     "data": {
      "text/plain": [
       "array([0.508273  , 0.40412233, 0.33905437, 0.28547401, 0.24743778,\n",
       "       0.20854855, 0.17876039, 0.15467173, 0.13209738])"
      ]
     },
     "execution_count": 87,
     "metadata": {},
     "output_type": "execute_result"
    }
   ],
   "source": [
    "b6=ridge(X,Y,0.2,9,0.2,0.2)\n",
    "b6"
   ]
  }
 ],
 "metadata": {
  "kernelspec": {
   "display_name": "Python 3",
   "language": "python",
   "name": "python3"
  },
  "language_info": {
   "codemirror_mode": {
    "name": "ipython",
    "version": 3
   },
   "file_extension": ".py",
   "mimetype": "text/x-python",
   "name": "python",
   "nbconvert_exporter": "python",
   "pygments_lexer": "ipython3",
   "version": "3.7.4"
  }
 },
 "nbformat": 4,
 "nbformat_minor": 2
}
